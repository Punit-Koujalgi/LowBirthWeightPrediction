{
  "nbformat": 4,
  "nbformat_minor": 0,
  "metadata": {
    "colab": {
      "name": "Untitled0.ipynb",
      "provenance": [],
      "collapsed_sections": [],
      "authorship_tag": "ABX9TyPl7yypfMNk+CT+STFngcxY",
      "include_colab_link": true
    },
    "kernelspec": {
      "name": "python3",
      "display_name": "Python 3"
    }
  },
  "cells": [
    {
      "cell_type": "markdown",
      "metadata": {
        "id": "view-in-github",
        "colab_type": "text"
      },
      "source": [
        "<a href=\"https://colab.research.google.com/github/Punit-Koujalgi/LowBirthWeightPrediction/blob/main/LBW.ipynb\" target=\"_parent\"><img src=\"https://colab.research.google.com/assets/colab-badge.svg\" alt=\"Open In Colab\"/></a>"
      ]
    },
    {
      "cell_type": "code",
      "metadata": {
        "id": "3AfPfPY8fQOm",
        "outputId": "61033bcf-5a88-4437-a7b7-646c6f8bb52a",
        "colab": {
          "base_uri": "https://localhost:8080/",
          "height": 221
        }
      },
      "source": [
        "import numpy as np\n",
        "import pandas as pd\n",
        "import matplotlib.pyplot as plt\n",
        "from sklearn.model_selection import train_test_split\n",
        "\n",
        "df=pd.read_csv(\"LBW_Dataset.csv\")\n",
        "print(\"Shape:\",df.shape)\n",
        "df.head()\n"
      ],
      "execution_count": 285,
      "outputs": [
        {
          "output_type": "stream",
          "text": [
            "Shape: (96, 10)\n"
          ],
          "name": "stdout"
        },
        {
          "output_type": "execute_result",
          "data": {
            "text/html": [
              "<div>\n",
              "<style scoped>\n",
              "    .dataframe tbody tr th:only-of-type {\n",
              "        vertical-align: middle;\n",
              "    }\n",
              "\n",
              "    .dataframe tbody tr th {\n",
              "        vertical-align: top;\n",
              "    }\n",
              "\n",
              "    .dataframe thead th {\n",
              "        text-align: right;\n",
              "    }\n",
              "</style>\n",
              "<table border=\"1\" class=\"dataframe\">\n",
              "  <thead>\n",
              "    <tr style=\"text-align: right;\">\n",
              "      <th></th>\n",
              "      <th>Community</th>\n",
              "      <th>Age</th>\n",
              "      <th>Weight</th>\n",
              "      <th>Delivery phase</th>\n",
              "      <th>HB</th>\n",
              "      <th>IFA</th>\n",
              "      <th>BP</th>\n",
              "      <th>Education</th>\n",
              "      <th>Residence</th>\n",
              "      <th>Result</th>\n",
              "    </tr>\n",
              "  </thead>\n",
              "  <tbody>\n",
              "    <tr>\n",
              "      <th>0</th>\n",
              "      <td>1</td>\n",
              "      <td>21.0</td>\n",
              "      <td>42.0</td>\n",
              "      <td>1.0</td>\n",
              "      <td>9.2</td>\n",
              "      <td>1</td>\n",
              "      <td>1.375</td>\n",
              "      <td>5.0</td>\n",
              "      <td>1.0</td>\n",
              "      <td>0</td>\n",
              "    </tr>\n",
              "    <tr>\n",
              "      <th>1</th>\n",
              "      <td>1</td>\n",
              "      <td>21.0</td>\n",
              "      <td>NaN</td>\n",
              "      <td>1.0</td>\n",
              "      <td>8.8</td>\n",
              "      <td>1</td>\n",
              "      <td>1.500</td>\n",
              "      <td>5.0</td>\n",
              "      <td>1.0</td>\n",
              "      <td>0</td>\n",
              "    </tr>\n",
              "    <tr>\n",
              "      <th>2</th>\n",
              "      <td>1</td>\n",
              "      <td>21.0</td>\n",
              "      <td>NaN</td>\n",
              "      <td>1.0</td>\n",
              "      <td>9.2</td>\n",
              "      <td>1</td>\n",
              "      <td>2.125</td>\n",
              "      <td>5.0</td>\n",
              "      <td>1.0</td>\n",
              "      <td>0</td>\n",
              "    </tr>\n",
              "    <tr>\n",
              "      <th>3</th>\n",
              "      <td>1</td>\n",
              "      <td>21.0</td>\n",
              "      <td>NaN</td>\n",
              "      <td>1.0</td>\n",
              "      <td>8.0</td>\n",
              "      <td>1</td>\n",
              "      <td>1.375</td>\n",
              "      <td>5.0</td>\n",
              "      <td>1.0</td>\n",
              "      <td>0</td>\n",
              "    </tr>\n",
              "    <tr>\n",
              "      <th>4</th>\n",
              "      <td>1</td>\n",
              "      <td>24.0</td>\n",
              "      <td>33.0</td>\n",
              "      <td>1.0</td>\n",
              "      <td>9.3</td>\n",
              "      <td>1</td>\n",
              "      <td>1.571</td>\n",
              "      <td>5.0</td>\n",
              "      <td>1.0</td>\n",
              "      <td>0</td>\n",
              "    </tr>\n",
              "  </tbody>\n",
              "</table>\n",
              "</div>"
            ],
            "text/plain": [
              "   Community   Age  Weight  Delivery phase  ...     BP  Education  Residence  Result\n",
              "0          1  21.0    42.0             1.0  ...  1.375        5.0        1.0       0\n",
              "1          1  21.0     NaN             1.0  ...  1.500        5.0        1.0       0\n",
              "2          1  21.0     NaN             1.0  ...  2.125        5.0        1.0       0\n",
              "3          1  21.0     NaN             1.0  ...  1.375        5.0        1.0       0\n",
              "4          1  24.0    33.0             1.0  ...  1.571        5.0        1.0       0\n",
              "\n",
              "[5 rows x 10 columns]"
            ]
          },
          "metadata": {
            "tags": []
          },
          "execution_count": 285
        }
      ]
    },
    {
      "cell_type": "code",
      "metadata": {
        "id": "E_0W4H-iibDw",
        "outputId": "f3e4eb85-5e2e-47f3-af22-78e5c0b0a7c8",
        "colab": {
          "base_uri": "https://localhost:8080/"
        }
      },
      "source": [
        "nulls=df.isnull().sum()\n",
        "nulls\n",
        "#(nulls*100)/96"
      ],
      "execution_count": 286,
      "outputs": [
        {
          "output_type": "execute_result",
          "data": {
            "text/plain": [
              "Community          0\n",
              "Age                7\n",
              "Weight            11\n",
              "Delivery phase     4\n",
              "HB                19\n",
              "IFA                0\n",
              "BP                15\n",
              "Education          3\n",
              "Residence          2\n",
              "Result             0\n",
              "dtype: int64"
            ]
          },
          "metadata": {
            "tags": []
          },
          "execution_count": 286
        }
      ]
    },
    {
      "cell_type": "code",
      "metadata": {
        "id": "PjoOQMIGkPQy",
        "outputId": "efba9cd6-3e53-46b1-fbdd-b62f506a6ee7",
        "colab": {
          "base_uri": "https://localhost:8080/"
        }
      },
      "source": [
        "#Residence counts\n",
        "print(\"No.of 1's\",np.sum(df[\"Residence\"]==1))\n",
        "print(\"No.of 2's\",np.sum(df[\"Residence\"]==2))\n",
        "df.Residence.values[df.Residence.values==1]=0\n",
        "df.Residence.values[df.Residence.values==2]=1\n",
        "df.Residence.fillna(0,inplace=True)"
      ],
      "execution_count": 287,
      "outputs": [
        {
          "output_type": "stream",
          "text": [
            "No.of 1's 81\n",
            "No.of 2's 13\n"
          ],
          "name": "stdout"
        }
      ]
    },
    {
      "cell_type": "code",
      "metadata": {
        "id": "N-e_uTFhk1X2",
        "outputId": "db04b7ac-69e4-429c-c8d2-8d8739edd35b",
        "colab": {
          "base_uri": "https://localhost:8080/"
        }
      },
      "source": [
        "#Delivery Phase\n",
        "print(\"No.of 1's\",np.sum(df[\"Delivery phase\"]==1))\n",
        "print(\"No.of 2's\",np.sum(df[\"Delivery phase\"]==2))\n",
        "df.drop(['Delivery phase','Education'],axis=1,inplace=True)"
      ],
      "execution_count": 288,
      "outputs": [
        {
          "output_type": "stream",
          "text": [
            "No.of 1's 90\n",
            "No.of 2's 2\n"
          ],
          "name": "stdout"
        }
      ]
    },
    {
      "cell_type": "code",
      "metadata": {
        "id": "N6lV0ayWqTc1",
        "outputId": "0e314374-2437-46b2-b4e1-0baf1fe46057",
        "colab": {
          "base_uri": "https://localhost:8080/"
        }
      },
      "source": [
        "#IFA\n",
        "print(\"No.of 1's\",np.sum(df[\"IFA\"]==0))\n",
        "print(\"No.of 2's\",np.sum(df[\"IFA\"]==1))"
      ],
      "execution_count": 289,
      "outputs": [
        {
          "output_type": "stream",
          "text": [
            "No.of 1's 30\n",
            "No.of 2's 66\n"
          ],
          "name": "stdout"
        }
      ]
    },
    {
      "cell_type": "code",
      "metadata": {
        "id": "0HuxBvFJqa-9",
        "outputId": "65473579-eed4-4741-8774-a7cf9efc23b8",
        "colab": {
          "base_uri": "https://localhost:8080/",
          "height": 435
        }
      },
      "source": [
        "ages=df[\"Age\"].notnull()\n",
        "age=df[\"Age\"]\n",
        "ages=age[ages]\n",
        "print(ages.describe())\n",
        "plt.hist(ages,bins=20)\n",
        "plt.show()\n",
        "age.fillna(ages.median(),inplace=True)\n",
        "print(df['Age'].mean())"
      ],
      "execution_count": 290,
      "outputs": [
        {
          "output_type": "stream",
          "text": [
            "count    89.000000\n",
            "mean     23.752809\n",
            "std       3.321011\n",
            "min      17.000000\n",
            "25%      21.000000\n",
            "50%      24.000000\n",
            "75%      26.000000\n",
            "max      38.000000\n",
            "Name: Age, dtype: float64\n"
          ],
          "name": "stdout"
        },
        {
          "output_type": "display_data",
          "data": {
            "image/png": "[encoded data removed]",
            "text/plain": [
              "<Figure size 432x288 with 1 Axes>"
            ]
          },
          "metadata": {
            "tags": [],
            "needs_background": "light"
          }
        },
        {
          "output_type": "stream",
          "text": [
            "23.770833333333332\n"
          ],
          "name": "stdout"
        }
      ]
    },
    {
      "cell_type": "code",
      "metadata": {
        "id": "cxzcxo-c3EPn",
        "outputId": "eaf8d144-346a-4d50-fea1-81324a6581bb",
        "colab": {
          "base_uri": "https://localhost:8080/",
          "height": 1000
        }
      },
      "source": [
        "wts=df['Weight'].notnull()\n",
        "cor_age=df.Age[wts]\n",
        "cor_wts=df.Weight[wts]\n",
        "plt.boxplot(df.Age)\n",
        "plt.show()\n",
        "plt.boxplot(df.Weight)\n",
        "plt.show()\n",
        "cor=np.cov(cor_age,cor_wts)\n",
        "cor[0,1]/(cor_age.std()*cor_wts.std())\n",
        "plt.scatter(cor_age,cor_wts)\n",
        "plt.show()\n",
        "print(cor_wts.describe())\n",
        "df.Weight.fillna(cor_wts.mean(),inplace=True)"
      ],
      "execution_count": 291,
      "outputs": [
        {
          "output_type": "display_data",
          "data": {
            "image/png": "[encoded data removed]",
            "text/plain": [
              "<Figure size 432x288 with 1 Axes>"
            ]
          },
          "metadata": {
            "tags": [],
            "needs_background": "light"
          }
        },
        {
          "output_type": "stream",
          "text": [
            "/usr/local/lib/python3.6/dist-packages/matplotlib/cbook/__init__.py:1239: RuntimeWarning: invalid value encountered in less_equal\n",
            "  wiskhi = x[x <= hival]\n",
            "/usr/local/lib/python3.6/dist-packages/matplotlib/cbook/__init__.py:1246: RuntimeWarning: invalid value encountered in greater_equal\n",
            "  wisklo = x[x >= loval]\n",
            "/usr/local/lib/python3.6/dist-packages/matplotlib/cbook/__init__.py:1254: RuntimeWarning: invalid value encountered in less\n",
            "  x[x < stats['whislo']],\n",
            "/usr/local/lib/python3.6/dist-packages/matplotlib/cbook/__init__.py:1255: RuntimeWarning: invalid value encountered in greater\n",
            "  x[x > stats['whishi']],\n"
          ],
          "name": "stderr"
        },
        {
          "output_type": "display_data",
          "data": {
            "image/png": "[encoded data removed]",
            "text/plain": [
              "<Figure size 432x288 with 1 Axes>"
            ]
          },
          "metadata": {
            "tags": [],
            "needs_background": "light"
          }
        },
        {
          "output_type": "display_data",
          "data": {
            "image/png": "[encoded data removed]",
            "text/plain": [
              "<Figure size 432x288 with 1 Axes>"
            ]
          },
          "metadata": {
            "tags": [],
            "needs_background": "light"
          }
        },
        {
          "output_type": "stream",
          "text": [
            "count    85.000000\n",
            "mean     45.129412\n",
            "std       8.215532\n",
            "min      30.000000\n",
            "25%      40.000000\n",
            "50%      43.000000\n",
            "75%      50.000000\n",
            "max      65.000000\n",
            "Name: Weight, dtype: float64\n"
          ],
          "name": "stdout"
        }
      ]
    },
    {
      "cell_type": "code",
      "metadata": {
        "id": "U8va6WuJ56gt",
        "outputId": "4ead9ed1-7f22-4f24-ff01-2acfaf2e72a3",
        "colab": {
          "base_uri": "https://localhost:8080/",
          "height": 265
        }
      },
      "source": [
        "h=df['HB'].notnull()\n",
        "hbs=df.HB[h].to_numpy()\n",
        "lo=hbs>=8.45\n",
        "hi=hbs<=9.65\n",
        "hb=hbs[lo & hi]\n",
        "plt.boxplot(hbs)\n",
        "plt.show()\n",
        "#print(pd.Series(hbs).describe(),pd.Series(hb).describe())\n",
        "df.HB.fillna(hb.mean(),inplace=True)"
      ],
      "execution_count": 292,
      "outputs": [
        {
          "output_type": "display_data",
          "data": {
            "image/png": "[encoded data removed]",
            "text/plain": [
              "<Figure size 432x288 with 1 Axes>"
            ]
          },
          "metadata": {
            "tags": [],
            "needs_background": "light"
          }
        }
      ]
    },
    {
      "cell_type": "code",
      "metadata": {
        "id": "atQgMIe2-l0c",
        "outputId": "6fb2b303-150b-4eb3-fb2c-86bda1fe452a",
        "colab": {
          "base_uri": "https://localhost:8080/",
          "height": 204
        }
      },
      "source": [
        "b=df['BP'].notnull()\n",
        "bps=df.BP[h]\n",
        "bps.describe()\n",
        "df.BP.fillna(bps.mean(),inplace=True)\n",
        "one_hot=pd.get_dummies(df['Community'])\n",
        "df=df.drop('Community',axis=1)\n",
        "df=df.join(one_hot)\n",
        "df=df.reindex(columns=[1,2,3,4,'Age','Weight','HB','IFA','BP','Residence','Result'])\n",
        "df.head()"
      ],
      "execution_count": 293,
      "outputs": [
        {
          "output_type": "execute_result",
          "data": {
            "text/html": [
              "<div>\n",
              "<style scoped>\n",
              "    .dataframe tbody tr th:only-of-type {\n",
              "        vertical-align: middle;\n",
              "    }\n",
              "\n",
              "    .dataframe tbody tr th {\n",
              "        vertical-align: top;\n",
              "    }\n",
              "\n",
              "    .dataframe thead th {\n",
              "        text-align: right;\n",
              "    }\n",
              "</style>\n",
              "<table border=\"1\" class=\"dataframe\">\n",
              "  <thead>\n",
              "    <tr style=\"text-align: right;\">\n",
              "      <th></th>\n",
              "      <th>1</th>\n",
              "      <th>2</th>\n",
              "      <th>3</th>\n",
              "      <th>4</th>\n",
              "      <th>Age</th>\n",
              "      <th>Weight</th>\n",
              "      <th>HB</th>\n",
              "      <th>IFA</th>\n",
              "      <th>BP</th>\n",
              "      <th>Residence</th>\n",
              "      <th>Result</th>\n",
              "    </tr>\n",
              "  </thead>\n",
              "  <tbody>\n",
              "    <tr>\n",
              "      <th>0</th>\n",
              "      <td>1</td>\n",
              "      <td>0</td>\n",
              "      <td>0</td>\n",
              "      <td>0</td>\n",
              "      <td>21.0</td>\n",
              "      <td>42.000000</td>\n",
              "      <td>9.2</td>\n",
              "      <td>1</td>\n",
              "      <td>1.375</td>\n",
              "      <td>0.0</td>\n",
              "      <td>0</td>\n",
              "    </tr>\n",
              "    <tr>\n",
              "      <th>1</th>\n",
              "      <td>1</td>\n",
              "      <td>0</td>\n",
              "      <td>0</td>\n",
              "      <td>0</td>\n",
              "      <td>21.0</td>\n",
              "      <td>45.129412</td>\n",
              "      <td>8.8</td>\n",
              "      <td>1</td>\n",
              "      <td>1.500</td>\n",
              "      <td>0.0</td>\n",
              "      <td>0</td>\n",
              "    </tr>\n",
              "    <tr>\n",
              "      <th>2</th>\n",
              "      <td>1</td>\n",
              "      <td>0</td>\n",
              "      <td>0</td>\n",
              "      <td>0</td>\n",
              "      <td>21.0</td>\n",
              "      <td>45.129412</td>\n",
              "      <td>9.2</td>\n",
              "      <td>1</td>\n",
              "      <td>2.125</td>\n",
              "      <td>0.0</td>\n",
              "      <td>0</td>\n",
              "    </tr>\n",
              "    <tr>\n",
              "      <th>3</th>\n",
              "      <td>1</td>\n",
              "      <td>0</td>\n",
              "      <td>0</td>\n",
              "      <td>0</td>\n",
              "      <td>21.0</td>\n",
              "      <td>45.129412</td>\n",
              "      <td>8.0</td>\n",
              "      <td>1</td>\n",
              "      <td>1.375</td>\n",
              "      <td>0.0</td>\n",
              "      <td>0</td>\n",
              "    </tr>\n",
              "    <tr>\n",
              "      <th>4</th>\n",
              "      <td>1</td>\n",
              "      <td>0</td>\n",
              "      <td>0</td>\n",
              "      <td>0</td>\n",
              "      <td>24.0</td>\n",
              "      <td>33.000000</td>\n",
              "      <td>9.3</td>\n",
              "      <td>1</td>\n",
              "      <td>1.571</td>\n",
              "      <td>0.0</td>\n",
              "      <td>0</td>\n",
              "    </tr>\n",
              "  </tbody>\n",
              "</table>\n",
              "</div>"
            ],
            "text/plain": [
              "   1  2  3  4   Age     Weight   HB  IFA     BP  Residence  Result\n",
              "0  1  0  0  0  21.0  42.000000  9.2    1  1.375        0.0       0\n",
              "1  1  0  0  0  21.0  45.129412  8.8    1  1.500        0.0       0\n",
              "2  1  0  0  0  21.0  45.129412  9.2    1  2.125        0.0       0\n",
              "3  1  0  0  0  21.0  45.129412  8.0    1  1.375        0.0       0\n",
              "4  1  0  0  0  24.0  33.000000  9.3    1  1.571        0.0       0"
            ]
          },
          "metadata": {
            "tags": []
          },
          "execution_count": 293
        }
      ]
    },
    {
      "cell_type": "code",
      "metadata": {
        "id": "TXZTxez6jAhQ"
      },
      "source": [
        "def sigmoid(Z):\n",
        "  return 1/(np.exp(-Z)+1)\n",
        "def relu(Z):\n",
        "  return np.maximum(0,Z)\n"
      ],
      "execution_count": 294,
      "outputs": []
    },
    {
      "cell_type": "code",
      "metadata": {
        "id": "VNxUxcUErn_v"
      },
      "source": [
        "def init_parameters(dims):\n",
        "  parameters={}\n",
        "  for l in range(1,len(dims)):\n",
        "    parameters[\"W\"+ str(l)]=np.random.randn(dims[l],dims[l-1])*np.sqrt(2/dims[l-1])\n",
        "    parameters[\"b\"+ str(l)]=np.zeros(shape=(dims[l],1))\n",
        "    #limit=np.sqrt(6/(dims[l]+dims[l-1]))\n",
        "    # parameters[\"W\"+ str(l)]=np.random.uniform(-limit,limit,size=(dims[l],dims[l-1]))\n",
        "    # parameters[\"b\"+ str(l)]=np.random.uniform(-limit,limit,size=(dims[l],1))\n",
        "  return parameters\n",
        "\n",
        "def forward_activation(A,W,b,activation):\n",
        "  Z=W.dot(A)+b\n",
        "  if activation==\"relu\":\n",
        "    A_new=relu(Z)\n",
        "  elif activation==\"sigmoid\":\n",
        "    A_new=sigmoid(Z)\n",
        "  cache=((A,W,b),Z)\n",
        "  return A_new,cache\n",
        "\n",
        "def forward_propogate(X,parameters):\n",
        "  L=len(parameters)//2\n",
        "  caches=[]\n",
        "  A=X\n",
        "  for l in range(1,L):\n",
        "    A_prev=A\n",
        "    A,cache=forward_activation(A_prev,parameters[\"W\"+str(l)],parameters[\"b\"+str(l)],\"sigmoid\")\n",
        "    caches.append(cache)\n",
        "  #Last layer\n",
        "  O,cache=forward_activation(A,parameters[\"W\"+str(L)],parameters[\"b\"+str(L)],\"sigmoid\")\n",
        "  caches.append(cache)\n",
        "  return O,caches"
      ],
      "execution_count": 295,
      "outputs": []
    },
    {
      "cell_type": "code",
      "metadata": {
        "id": "Aztm4g3vySNm"
      },
      "source": [
        "def compute_cost(O,Y,parameters,lambd):\n",
        "  assert(O.shape == Y.shape)\n",
        "  m=Y.shape[1]\n",
        "  #print(\"examples:\",m)\n",
        "  cost=(1./m)*(-np.dot(Y,np.log(O).T)-np.dot(1-Y,np.log(1-O).T))\n",
        "  cost=np.squeeze(cost)\n",
        "  assert(cost.shape==())\n",
        "  L=len(parameters)//2\n",
        "  reg_cost=0\n",
        "  for l in range(1,L+1):\n",
        "    reg_cost+=(1/m) * (lambd/2) * np.sum(parameters[\"W\"+str(l)]**2)\n",
        "  return cost#+reg_cost"
      ],
      "execution_count": 296,
      "outputs": []
    },
    {
      "cell_type": "code",
      "metadata": {
        "id": "oseRSkRpzk2U"
      },
      "source": [
        "#Back Propogation\n",
        "def relu_diff(da,z):\n",
        "  dz=da.copy()\n",
        "  dz[z<=0]=0\n",
        "  return dz\n",
        "def sigmoid_diff(da,z):\n",
        "  a=sigmoid(z)\n",
        "  dz=da*a*(1-a)\n",
        "  return dz\n",
        "\n",
        "def backward_activation(da,cache,activation):\n",
        "  cache1,cache2=cache\n",
        "  lambd=0.7\n",
        "  if activation==\"relu\":\n",
        "    dz=relu_diff(da,cache2)\n",
        "  elif activation==\"sigmoid\":\n",
        "    dz=sigmoid_diff(da,cache2)\n",
        "  a_prev,W,b=cache1\n",
        "  m=a_prev.shape[1]\n",
        "  da_prev=np.dot(W.T,dz)\n",
        "  dW=np.dot(dz,a_prev.T)*(1./m)#+(lambd/m) * W\n",
        "  db=np.sum(dz,axis=1,keepdims=True)*(1./m)\n",
        "  return da_prev,dW,db\n",
        "\n",
        "def back_propogate(O,Y,caches):\n",
        "  grads={}\n",
        "  m=O.shape[1]\n",
        "  L=len(caches)\n",
        "  Y=Y.reshape(O.shape)\n",
        "\n",
        "  dO=-(np.divide(Y,O)-np.divide(1-Y,1-O))\n",
        "  current_cache=caches[L-1]\n",
        "  grads[\"dA\"+str(L-1)],grads[\"dW\"+str(L)],grads[\"db\"+str(L)]=backward_activation(dO,current_cache,\"sigmoid\")\n",
        "\n",
        "  for l in reversed(range(L-1)):\n",
        "    current_cache=caches[l]\n",
        "    grads[\"dA\"+str(l)],grads[\"dW\"+str(l+1)],grads[\"db\"+str(l+1)]=backward_activation(grads[\"dA\"+str(l+1)],current_cache,\"sigmoid\")\n",
        "\n",
        "  return grads"
      ],
      "execution_count": 297,
      "outputs": []
    },
    {
      "cell_type": "code",
      "metadata": {
        "id": "L5ZL5aCVEre8"
      },
      "source": [
        "def update_parameters(parameters,v,grads,learning_rate):\n",
        "    L = len(parameters) // 2 # number of layers in the neural networks\n",
        "    beta=0.9\n",
        "    # Momentum update for each parameter\n",
        "    for l in range(L):\n",
        "        \n",
        "        ### START CODE HERE ### (approx. 4 lines)\n",
        "        # compute velocities\n",
        "        v[\"dW\" + str(l+1)] = beta * v[\"dW\" + str(l+1)] + (1-beta) * grads['dW' + str(l+1)]\n",
        "        v[\"db\" + str(l+1)] = beta * v[\"db\" + str(l+1)] + (1-beta) * grads['db' + str(l+1)]\n",
        "        # update parameters\n",
        "        parameters[\"W\" + str(l+1)] = parameters[\"W\" + str(l+1)] - learning_rate * v['dW' + str(l+1)]\n",
        "        parameters[\"b\" + str(l+1)] = parameters[\"b\" + str(l+1)] - learning_rate * v['db' + str(l+1)]\n",
        "        ### END CODE HERE ###\n",
        "        \n",
        "    return parameters, v"
      ],
      "execution_count": 298,
      "outputs": []
    },
    {
      "cell_type": "code",
      "metadata": {
        "id": "bqWCkMU7FZZW"
      },
      "source": [
        "def predict(X,Y,parameters):\n",
        "  #print(X[:,[0,5,10]])\n",
        "  m=X.shape[1]\n",
        "  n=len(parameters)//2\n",
        "  predictions=np.zeros((1,m))\n",
        "  prob,cache=forward_propogate(X,parameters)\n",
        "  for i in range(0,prob.shape[1]):\n",
        "    if prob[0][i] > 0.5:\n",
        "        predictions[0][i]=1\n",
        "    else:\n",
        "        predictions[0][i]=0\n",
        "  #print(\"Accuracy: \"+str(np.sum(predictions[0]==Y[0])))\n",
        "  print(\"Accuracy: \"  + str(np.sum((predictions == Y)/m)))\n",
        "  return predictions"
      ],
      "execution_count": 299,
      "outputs": []
    },
    {
      "cell_type": "code",
      "metadata": {
        "id": "jw-kf9lG2t6f"
      },
      "source": [
        "def initialize_velocity(parameters):\n",
        "    L = len(parameters) // 2 # number of layers in the neural networks\n",
        "    v = {}\n",
        "    \n",
        "    # Initialize velocity\n",
        "    for l in range(L):\n",
        "        ### START CODE HERE ### (approx. 2 lines)\n",
        "        v[\"dW\" + str(l+1)] = np.zeros_like(parameters['W' + str(l+1)])\n",
        "        v[\"db\" + str(l+1)] = np.zeros_like(parameters['b' + str(l+1)])\n",
        "        ### END CODE HERE ###\n",
        "        \n",
        "    return v"
      ],
      "execution_count": 300,
      "outputs": []
    },
    {
      "cell_type": "code",
      "metadata": {
        "id": "NsC4dWgOHFQA"
      },
      "source": [
        "def model(X,Y,layer_dims,learning_rate=0.0075,num_iterations=1500,print_cost=False):\n",
        "  parameters=init_parameters(layers_dims)\n",
        "  v=initialize_velocity(parameters)\n",
        "  costs=[]\n",
        "  for i in range(num_iterations):\n",
        "    O,caches=forward_propogate(X,parameters)\n",
        "    cost=compute_cost(O,Y,parameters,0.7)\n",
        "    grads=back_propogate(O,Y,caches)\n",
        "    parameters,v=update_parameters(parameters,v,grads,learning_rate)\n",
        "    #print(O,len(O[0]))\n",
        "    if print_cost and i%5000==0:\n",
        "      print(\"Cost after\",i,\"iteration:\",cost)\n",
        "      costs.append(cost)\n",
        "  plt.plot(costs)\n",
        "  plt.ylabel('cost')\n",
        "  plt.xlabel('iterations per 100')\n",
        "  plt.title(\"learning rate=\"+str(learning_rate))\n",
        "  plt.show()\n",
        "\n",
        "  return parameters      "
      ],
      "execution_count": 301,
      "outputs": []
    },
    {
      "cell_type": "code",
      "metadata": {
        "id": "D8qVLuCtJk8d",
        "outputId": "47362342-2992-45b4-de88-7615f84c0c7e",
        "colab": {
          "base_uri": "https://localhost:8080/"
        }
      },
      "source": [
        "data=df.to_numpy()\n",
        "X_temp=data[:,[4,5,6]]\n",
        "#print(X_temp[:5,:],np.sum(X_temp,axis=0))\n",
        "mean=np.sum(X_temp,axis=0)/X_temp.shape[0]\n",
        "X_temp-=mean\n",
        "#print(X_temp[:5,:])\n",
        "X_sigma=np.sum(X_temp**2,axis=0)/X_temp.shape[0]\n",
        "data[:,[4,5,6]]=X_temp/np.sqrt(X_sigma)\n",
        "np.savetxt(\"cleaned1.csv\",data,delimiter=',')\n",
        "X=data[:,:-1]\n",
        "Y=data[:,-1]\n",
        "print(np.sum(Y==0),np.sum(Y==1))\n",
        "X_train,X_test,Y_train,Y_test=train_test_split(X,Y,test_size=.30,random_state=11)\n",
        "#print(X_train.T.shape,X_test.T.shape,Y_train.T.shape,Y_test.T.shape,X_train.T[:,50],Y_train.reshape((1,len(Y_train)))[0,50])"
      ],
      "execution_count": 331,
      "outputs": [
        {
          "output_type": "stream",
          "text": [
            "24 72\n"
          ],
          "name": "stdout"
        }
      ]
    },
    {
      "cell_type": "code",
      "metadata": {
        "id": "lS0EYmjVJpgi",
        "outputId": "517fe479-3893-48cc-bcd1-7dba4044adc1",
        "colab": {
          "base_uri": "https://localhost:8080/",
          "height": 567
        }
      },
      "source": [
        "layers_dims=(10,10,3,1)\n",
        "parameters=model(X_train.T,Y_train.reshape((1,len(Y_train))),layers_dims,learning_rate=0.3,num_iterations=80000,print_cost=True)"
      ],
      "execution_count": 358,
      "outputs": [
        {
          "output_type": "stream",
          "text": [
            "Cost after 0 iteration: 0.5868916965973695\n",
            "Cost after 5000 iteration: 0.004484770865799663\n",
            "Cost after 10000 iteration: 0.0012355555780543333\n",
            "Cost after 15000 iteration: 0.0006947098196786241\n",
            "Cost after 20000 iteration: 0.0004794856927647252\n",
            "Cost after 25000 iteration: 0.00036485783669417397\n",
            "Cost after 30000 iteration: 0.0002939173219123974\n",
            "Cost after 35000 iteration: 0.0002457776484769136\n",
            "Cost after 40000 iteration: 0.0002110071314775845\n",
            "Cost after 45000 iteration: 0.00018473451185866484\n",
            "Cost after 50000 iteration: 0.00016419390099777344\n",
            "Cost after 55000 iteration: 0.00014769988799276856\n",
            "Cost after 60000 iteration: 0.00013416760823884645\n",
            "Cost after 65000 iteration: 0.0001228674938266546\n",
            "Cost after 70000 iteration: 0.0001132910151575688\n",
            "Cost after 75000 iteration: 0.0001050729661383626\n"
          ],
          "name": "stdout"
        },
        {
          "output_type": "display_data",
          "data": {
            "image/png": "[encoded data removed]",
            "text/plain": [
              "<Figure size 432x288 with 1 Axes>"
            ]
          },
          "metadata": {
            "tags": [],
            "needs_background": "light"
          }
        }
      ]
    },
    {
      "cell_type": "code",
      "metadata": {
        "id": "SeSkb_iAKdgr",
        "outputId": "d8132261-da1d-4ae6-bdc6-3d183286d9ce",
        "colab": {
          "base_uri": "https://localhost:8080/"
        }
      },
      "source": [
        "predict(X_train.T,Y_train.reshape((1,len(Y_train))),parameters)"
      ],
      "execution_count": 359,
      "outputs": [
        {
          "output_type": "stream",
          "text": [
            "Accuracy: 1.0\n"
          ],
          "name": "stdout"
        },
        {
          "output_type": "execute_result",
          "data": {
            "text/plain": [
              "array([[1., 1., 0., 1., 1., 0., 1., 0., 1., 1., 1., 0., 0., 0., 1., 1.,\n",
              "        1., 1., 1., 1., 0., 1., 1., 1., 0., 1., 1., 1., 1., 1., 1., 0.,\n",
              "        0., 1., 1., 1., 1., 0., 1., 1., 1., 1., 0., 0., 1., 0., 0., 1.,\n",
              "        1., 1., 1., 0., 1., 0., 1., 1., 1., 1., 0., 1., 1., 1., 0., 0.,\n",
              "        1., 0., 1., 1., 1., 1., 1., 1., 1., 1., 0., 1., 1., 1., 1., 1.,\n",
              "        1.]])"
            ]
          },
          "metadata": {
            "tags": []
          },
          "execution_count": 359
        }
      ]
    },
    {
      "cell_type": "code",
      "metadata": {
        "id": "D6InJZ96qvte",
        "outputId": "ce5d4872-7ae3-4cef-9118-2c2c1a75b610",
        "colab": {
          "base_uri": "https://localhost:8080/"
        }
      },
      "source": [
        "predict(X_test.T,Y_test.reshape((1,len(Y_test))),parameters)"
      ],
      "execution_count": 360,
      "outputs": [
        {
          "output_type": "stream",
          "text": [
            "Accuracy: 0.6666666666666666\n"
          ],
          "name": "stdout"
        },
        {
          "output_type": "execute_result",
          "data": {
            "text/plain": [
              "array([[0., 0., 1., 1., 1., 0., 1., 1., 1., 1., 1., 1., 1., 1., 1.]])"
            ]
          },
          "metadata": {
            "tags": []
          },
          "execution_count": 360
        }
      ]
    },
    {
      "cell_type": "code",
      "metadata": {
        "id": "cBsUUxhUM50L",
        "outputId": "f632f97f-d412-480d-b486-7c1fa1c33a7e",
        "colab": {
          "base_uri": "https://localhost:8080/"
        }
      },
      "source": [
        "parameters"
      ],
      "execution_count": 354,
      "outputs": [
        {
          "output_type": "execute_result",
          "data": {
            "text/plain": [
              "{'W1': array([[  3.33256641,   0.06532644,   5.32500961,   1.64523815,\n",
              "          -0.45313052,   2.33684005,  -7.01633459, -20.44697969,\n",
              "          -7.91830551,  -5.41026857],\n",
              "        [-11.26395022,   2.59081317,   3.92211722,   6.66144125,\n",
              "          -4.59259323,  13.71857404,   5.85294264,  13.60376529,\n",
              "          -7.46001628,  -2.82033215],\n",
              "        [-10.35098235,  -0.99499378,  11.37330744,   5.27077037,\n",
              "          -5.5362099 ,  -7.25587712,  12.71890254,  -7.29565816,\n",
              "          -2.40291487,  -0.13952873]]),\n",
              " 'W2': array([[ 26.67344906,  20.97443982, -13.69621597]]),\n",
              " 'b1': array([[10.14119148],\n",
              "        [ 2.12946923],\n",
              "        [ 5.53760881]]),\n",
              " 'b2': array([[0.81251564]])}"
            ]
          },
          "metadata": {
            "tags": []
          },
          "execution_count": 354
        }
      ]
    },
    {
      "cell_type": "code",
      "metadata": {
        "id": "AyyVySllNT1i"
      },
      "source": [
        ""
      ],
      "execution_count": 306,
      "outputs": []
    }
  ]
}